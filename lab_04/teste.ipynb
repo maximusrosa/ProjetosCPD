{
 "cells": [
  {
   "cell_type": "raw",
   "id": "fa350b4732e46bb8",
   "metadata": {
    "collapsed": false
   },
   "source": [
    "How to Create Your First Hash Table in Python\n",
    "\n",
    "Python's dictionaries provide a ready-made implementation of hash tables, allowing you to store and retrieve key-value pairs with excellent efficiency. However, to understand hash tables thoroughly, it can be beneficial to implement one from scratch. In this section, we'll guide you through creating a simple hash table in Python.\n",
    "\n",
    "We'll start by defining a HashTable class. The hash table will be represented by a list (the table), and we will use a very simple hash function that calculates the remainder of the ASCII value of the key string's first character divided by the size of the table:\n",
    "\n"
   ]
  },
  {
   "cell_type": "code",
   "execution_count": 12,
   "id": "f3a826cfb4098c53",
   "metadata": {
    "collapsed": false
   },
   "outputs": [
    {
     "name": "stdout",
     "output_type": "stream",
     "text": [
      "January\n"
     ]
    },
    {
     "ename": "KeyError",
     "evalue": "'Key Bob not found'",
     "output_type": "error",
     "traceback": [
      "\u001b[1;31m---------------------------------------------------------------------------\u001b[0m",
      "\u001b[1;31mKeyError\u001b[0m                                  Traceback (most recent call last)",
      "\u001b[1;32mc:\\Users\\maxbo\\PyCharmProjects\\ProjetosCPD\\lab_04\\teste.ipynb Cell 2\u001b[0m line \u001b[0;36m1\n\u001b[0;32m     <a href='vscode-notebook-cell:/c%3A/Users/maxbo/PyCharmProjects/ProjetosCPD/lab_04/teste.ipynb#W1sZmlsZQ%3D%3D?line=13'>14</a>\u001b[0m hash_table\u001b[39m.\u001b[39mremove(\u001b[39m'\u001b[39m\u001b[39mBob\u001b[39m\u001b[39m'\u001b[39m)\n\u001b[0;32m     <a href='vscode-notebook-cell:/c%3A/Users/maxbo/PyCharmProjects/ProjetosCPD/lab_04/teste.ipynb#W1sZmlsZQ%3D%3D?line=15'>16</a>\u001b[0m \u001b[39m# This will raise a KeyError, as 'Bob' was removed\u001b[39;00m\n\u001b[1;32m---> <a href='vscode-notebook-cell:/c%3A/Users/maxbo/PyCharmProjects/ProjetosCPD/lab_04/teste.ipynb#W1sZmlsZQ%3D%3D?line=16'>17</a>\u001b[0m \u001b[39mprint\u001b[39m(hash_table\u001b[39m.\u001b[39;49mget(\u001b[39m'\u001b[39;49m\u001b[39mBob\u001b[39;49m\u001b[39m'\u001b[39;49m))\n",
      "File \u001b[1;32mc:\\Users\\maxbo\\PyCharmProjects\\ProjetosCPD\\lab_04\\hash_table.py:24\u001b[0m, in \u001b[0;36mHashTable.get\u001b[1;34m(self, key)\u001b[0m\n\u001b[0;32m     21\u001b[0m     \u001b[39mif\u001b[39;00m kvp[\u001b[39m0\u001b[39m] \u001b[39m==\u001b[39m key:\n\u001b[0;32m     22\u001b[0m         \u001b[39mreturn\u001b[39;00m kvp[\u001b[39m1\u001b[39m]\n\u001b[1;32m---> 24\u001b[0m \u001b[39mraise\u001b[39;00m \u001b[39mKeyError\u001b[39;00m(\u001b[39mf\u001b[39m\u001b[39m'\u001b[39m\u001b[39mKey \u001b[39m\u001b[39m{\u001b[39;00mkey\u001b[39m}\u001b[39;00m\u001b[39m not found\u001b[39m\u001b[39m'\u001b[39m)\n",
      "\u001b[1;31mKeyError\u001b[0m: 'Key Bob not found'"
     ]
    }
   ],
   "source": [
    "from hash_table import HashTable\n",
    "\n",
    "# Create a hash table of size 10\n",
    "hash_table = HashTable(10)\n",
    "\n",
    "# Add some key-value pairs\n",
    "hash_table.set('Alice', 'January')\n",
    "hash_table.set('Bob', 'May')\n",
    "\n",
    "# Retrieve a value\n",
    "print(hash_table.get('Alice'))  # Outputs: 'January'\n",
    "\n",
    "# Remove a key-value pair\n",
    "hash_table.remove('Bob')\n",
    "\n",
    "# This will raise a KeyError, as 'Bob' was removed\n",
    "print(hash_table.get('Bob'))\n"
   ]
  }
 ],
 "metadata": {
  "kernelspec": {
   "display_name": "Python 3",
   "language": "python",
   "name": "python3"
  },
  "language_info": {
   "codemirror_mode": {
    "name": "ipython",
    "version": 3
   },
   "file_extension": ".py",
   "mimetype": "text/x-python",
   "name": "python",
   "nbconvert_exporter": "python",
   "pygments_lexer": "ipython3",
   "version": "3.12.0"
  }
 },
 "nbformat": 4,
 "nbformat_minor": 5
}
