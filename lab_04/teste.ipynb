{
 "cells": [
  {
   "cell_type": "code",
   "execution_count": null,
   "metadata": {},
   "outputs": [],
   "source": [
    "from hash_table import HashTable"
   ]
  },
  {
   "cell_type": "raw",
   "id": "fa350b4732e46bb8",
   "metadata": {
    "collapsed": false
   },
   "source": [
    "How to Create Your First Hash Table in Python\n",
    "\n",
    "Python's dictionaries provide a ready-made implementation of hash tables, allowing you to store and retrieve key-value pairs with excellent efficiency. However, to understand hash tables thoroughly, it can be beneficial to implement one from scratch. In this section, we'll guide you through creating a simple hash table in Python.\n",
    "\n",
    "We'll start by defining a HashTable class. The hash table will be represented by a list (the table), and we will use a very simple hash function that calculates the remainder of the ASCII value of the key string's first character divided by the size of the table:\n",
    "\n"
   ]
  },
  {
   "cell_type": "code",
   "execution_count": 6,
   "id": "f3a826cfb4098c53",
   "metadata": {
    "collapsed": false
   },
   "outputs": [
    {
     "ename": "AttributeError",
     "evalue": "'HashTable' object has no attribute 'set'",
     "output_type": "error",
     "traceback": [
      "\u001b[1;31m---------------------------------------------------------------------------\u001b[0m",
      "\u001b[1;31mAttributeError\u001b[0m                            Traceback (most recent call last)",
      "\u001b[1;32mc:\\Users\\maxbo\\PyCharmProjects\\ProjetosCPD\\lab_04\\teste.ipynb Cell 3\u001b[0m line \u001b[0;36m5\n\u001b[0;32m      <a href='vscode-notebook-cell:/c%3A/Users/maxbo/PyCharmProjects/ProjetosCPD/lab_04/teste.ipynb#W1sZmlsZQ%3D%3D?line=1'>2</a>\u001b[0m hash_table \u001b[39m=\u001b[39m HashTable(\u001b[39m10\u001b[39m)\n\u001b[0;32m      <a href='vscode-notebook-cell:/c%3A/Users/maxbo/PyCharmProjects/ProjetosCPD/lab_04/teste.ipynb#W1sZmlsZQ%3D%3D?line=3'>4</a>\u001b[0m \u001b[39m# Add some key-value pairs\u001b[39;00m\n\u001b[1;32m----> <a href='vscode-notebook-cell:/c%3A/Users/maxbo/PyCharmProjects/ProjetosCPD/lab_04/teste.ipynb#W1sZmlsZQ%3D%3D?line=4'>5</a>\u001b[0m hash_table\u001b[39m.\u001b[39;49mset(\u001b[39m'\u001b[39m\u001b[39mAlice\u001b[39m\u001b[39m'\u001b[39m, \u001b[39m'\u001b[39m\u001b[39mJanuary\u001b[39m\u001b[39m'\u001b[39m)\n\u001b[0;32m      <a href='vscode-notebook-cell:/c%3A/Users/maxbo/PyCharmProjects/ProjetosCPD/lab_04/teste.ipynb#W1sZmlsZQ%3D%3D?line=5'>6</a>\u001b[0m hash_table\u001b[39m.\u001b[39mset(\u001b[39m'\u001b[39m\u001b[39mBob\u001b[39m\u001b[39m'\u001b[39m, \u001b[39m'\u001b[39m\u001b[39mMay\u001b[39m\u001b[39m'\u001b[39m)\n\u001b[0;32m      <a href='vscode-notebook-cell:/c%3A/Users/maxbo/PyCharmProjects/ProjetosCPD/lab_04/teste.ipynb#W1sZmlsZQ%3D%3D?line=7'>8</a>\u001b[0m \u001b[39m# Retrieve a value\u001b[39;00m\n",
      "\u001b[1;31mAttributeError\u001b[0m: 'HashTable' object has no attribute 'set'"
     ]
    }
   ],
   "source": [
    "# Create a hash table of size 10\n",
    "hash_table = HashTable(10)\n",
    "\n",
    "# Add some key-value pairs\n",
    "hash_table.set('Alice', 'January')\n",
    "hash_table.set('Bob', 'May')\n",
    "\n",
    "# Retrieve a value\n",
    "print(hash_table.get('Alice'))  # Outputs: 'January'\n",
    "\n",
    "# Remove a key-value pair\n",
    "hash_table.remove('Bob')\n",
    "\n",
    "# This will raise a KeyError, as 'Bob' was removed\n",
    "print(hash_table.get('Bob'))\n"
   ]
  }
 ],
 "metadata": {
  "kernelspec": {
   "display_name": "Python 3",
   "language": "python",
   "name": "python3"
  },
  "language_info": {
   "codemirror_mode": {
    "name": "ipython",
    "version": 3
   },
   "file_extension": ".py",
   "mimetype": "text/x-python",
   "name": "python",
   "nbconvert_exporter": "python",
   "pygments_lexer": "ipython3",
   "version": "3.12.0"
  }
 },
 "nbformat": 4,
 "nbformat_minor": 5
}
