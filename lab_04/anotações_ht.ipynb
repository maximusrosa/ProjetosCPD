{
 "cells": [
  {
   "cell_type": "code",
   "execution_count": null,
   "id": "51c119b4c87eff59",
   "metadata": {
    "collapsed": false
   },
   "outputs": [],
   "source": [
    "import csv\n",
    "\n",
    "with open('players.csv', 'r') as file:\n",
    "    reader = csv.reader(file)"
   ]
  },
  {
   "cell_type": "markdown",
   "id": "93880f6f62615168",
   "metadata": {
    "collapsed": false
   },
   "source": [
    "The `reader` variable is an object created by the `csv.reader` function from Python's built-in `csv` module. This object represents a reader that reads from the 'players.csv' file, which is opened in read mode (`'r'`).\n",
    "\n",
    "The `csv.reader` function returns an object that iterates over lines in the specified CSV file. Each line is returned as a list of strings, where each string represents a field in the CSV file. The first line of the file is often a header line, and `next(reader)` is used to skip this line.\n",
    "\n",
    "In the context of the `cria_tabela` function, the `reader` object is used to iterate over each line in the 'players.csv' file, and for each line, it extracts the `id`, `key`, and `value` fields, which are then used to insert a new `Jogador` object into the `hash_table`.\n"
   ]
  },
  {
   "cell_type": "code",
   "execution_count": null,
   "id": "2c0d111149682c34",
   "metadata": {
    "collapsed": false
   },
   "outputs": [],
   "source": [
    "next(reader)  # Pula o cabeçalho"
   ]
  },
  {
   "cell_type": "markdown",
   "id": "bae2d588ce93b090",
   "metadata": {
    "collapsed": false
   },
   "source": [
    "The `next` function in Python is used to retrieve the next item from an iterator. In the context of the `cria_tabela` function in your code, `next(reader)` is used to skip the header line of the CSV file.\n",
    "\n",
    "When you open a CSV file with `csv.reader`, it returns an iterator that yields each line in the file as a list of fields. The first line of a CSV file is often a header line, which contains the names of the fields but not actual data. By calling `next(reader)`, you're advancing the iterator by one step, effectively skipping the header line, so that subsequent iterations over `reader` will yield the actual data lines."
   ]
  },
  {
   "cell_type": "code",
   "execution_count": null,
   "id": "cfdfd32f01c439e9",
   "metadata": {
    "collapsed": false
   },
   "outputs": [],
   "source": [
    "def estatisticas_consultas(hash_table, tamanho):\n",
    "\n",
    "    with open(f'consultas.csv', 'r') as file:\n",
    "        reader = list(csv.reader(file))\n",
    "\n",
    "        lista_de_tuplas = [None] * len(reader)"
   ]
  },
  {
   "cell_type": "markdown",
   "id": "fd0025552236becf",
   "metadata": {
    "collapsed": false
   },
   "source": [
    "The line `reader = list(csv.reader(file))` is converting the `csv.reader` object into a list. The `csv.reader` object is an iterator that reads a CSV file line by line. By converting it to a list, you can access the rows of the CSV file by index, which you can't do with an iterator.\n",
    "\n",
    "The line `lista_de_tuplas = [None] * len(reader)` is creating a list named `lista_de_tuplas` with the same length as the `reader` list. The list is initialized with `None` values. This is a common way to preallocate a list with a known size in Python."
   ]
  }
 ],
 "metadata": {
  "kernelspec": {
   "display_name": "Python 3",
   "language": "python",
   "name": "python3"
  },
  "language_info": {
   "codemirror_mode": {
    "name": "ipython",
    "version": 3
   },
   "file_extension": ".py",
   "mimetype": "text/x-python",
   "name": "python",
   "nbconvert_exporter": "python",
   "pygments_lexer": "ipython3",
   "version": "3.12.0"
  }
 },
 "nbformat": 4,
 "nbformat_minor": 5
}
